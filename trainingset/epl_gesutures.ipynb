{
 "cells": [
  {
   "cell_type": "code",
   "execution_count": 48,
   "metadata": {},
   "outputs": [
    {
     "data": {
      "image/png": "[encoded data removed]",
      "text/plain": [
       "<Figure size 288x288 with 2 Axes>"
      ]
     },
     "metadata": {},
     "output_type": "display_data"
    }
   ],
   "source": [
    "from sklearn import datasets\n",
    "import numpy as np\n",
    "from nxsdk_modules.epl.src.multi_pattern_learning.epl_multi_pattern_learning import EPLMultiPatternLearning\n",
    "from nxsdk_modules.epl.src.multi_pattern_learning.epl_parameters import ParamemtersForEPL\n",
    "import matplotlib.pyplot as plt\n",
    "\n",
    "def getLabelAndImageData(labelFile, imageFile):\n",
    "    try:\n",
    "        labelData = np.load(labelFile)\n",
    "        imageData = np.load(imageFile)\n",
    "    except IOError:\n",
    "        print(\"Cannot Open Label Files or Image Files\")\n",
    "        raise\n",
    "    return labelData, imageData\n",
    "\n",
    "#define utility functions\n",
    "#create the training dataset by choosing the appropriate images of the digts to be learned\n",
    "def get_training_data(digits, fourX=True, idx=0):\n",
    "    train_data = []\n",
    "    for digit in digits:\n",
    "        training_image = image_dict[digit][idx]\n",
    "        #print(training_image)\n",
    "        #plt.imshow(training_image)\n",
    "        #plt.show()\n",
    "        training_image = np.ndarray.astype(training_image, int)\n",
    "        if fourX: \n",
    "            training_image = (training_image//4)*4\n",
    "        training_image = np.ndarray.flatten(training_image).tolist()\n",
    "        #print(training_image)\n",
    "        train_data.append(training_image)\n",
    "    return train_data\n",
    "\n",
    "# display the images of the patterns (digits) to be learned\n",
    "def plot_images(digits, data, title):\n",
    "    fig, axs = plt.subplots(nrows=2, ncols=1, figsize=(4, 4),\n",
    "                        subplot_kw={'xticks': [], 'yticks': []})\n",
    "    for i, ax in enumerate(axs.flat):\n",
    "        img = data[i]\n",
    "        img = np.reshape(img, (10,10))\n",
    "        ax.imshow(img, interpolation=None, cmap='viridis')\n",
    "        ax.set_title(str(digits[i]))\n",
    "    plt.tight_layout()\n",
    "    fig.suptitle(title, fontsize=16)\n",
    "    plt.show()\n",
    "\n",
    "trainLabelsFile=\"2GestureSet/labelTrain.npy\"             \n",
    "trainImagesFile=\"2GestureSet/imageTrain.npy\"\n",
    "inferLabelsFile=\"2GestureSet/labelInfer.npy\"\n",
    "inferImagesFile=\"2GestureSet/imageInfer.npy\"\n",
    "trainLabelData,trainImageData = getLabelAndImageData(trainLabelsFile, trainImagesFile)\n",
    "inferLabelData,inferImageData = getLabelAndImageData(inferLabelsFile, inferImagesFile)\n",
    "\n",
    "# load the digits dataset which consists of 8X8 images of digits\n",
    "#digits = datasets.load_digits()\n",
    "#images = digits.images\n",
    "#targets = digits.target\n",
    "images = trainImageData\n",
    "targets = trainLabelData\n",
    "\n",
    "# create a map of {digt->list of images of the digits}\n",
    "#image_dict = {n : [] for n in range(10)}\n",
    "image_dict = {n : [] for n in range(2)}\n",
    "for t, img in zip(targets, images):\n",
    "    image_dict[t].append(img)\n",
    "    \n",
    "    \n",
    "numPatterns = 2\n",
    "#choose 2 Gestures\n",
    "gestures = [0, 1]\n",
    "\n",
    "# generate the training data\n",
    "train_data = get_training_data(digits=gestures)\n",
    "\n",
    "# visulize the training data    \n",
    "plot_images(gestures, train_data, title=\"Gesture to Learn\")\n"
   ]
  },
  {
   "cell_type": "code",
   "execution_count": 49,
   "metadata": {},
   "outputs": [
    {
     "name": "stdout",
     "output_type": "stream",
     "text": [
      "createMCAndSTONetwork took 0.14997 secs\n",
      "createMCToGCNetwork took 0.99011 secs\n",
      "compileAndGetBoard took 1.67606 secs\n"
     ]
    },
    {
     "data": {
      "image/png": "[encoded data removed]",
      "text/plain": [
       "<Figure size 288x288 with 2 Axes>"
      ]
     },
     "metadata": {},
     "output_type": "display_data"
    },
    {
     "ename": "IndexError",
     "evalue": "list index out of range",
     "output_type": "error",
     "traceback": [
      "\u001b[0;31m---------------------------------------------------------------------------\u001b[0m",
      "\u001b[0;31mIndexError\u001b[0m                                Traceback (most recent call last)",
      "\u001b[0;32m<ipython-input-49-bcd168593511>\u001b[0m in \u001b[0;36m<module>\u001b[0;34m\u001b[0m\n\u001b[1;32m     32\u001b[0m \u001b[0mplot_images\u001b[0m\u001b[0;34m(\u001b[0m\u001b[0mgestures\u001b[0m\u001b[0;34m,\u001b[0m \u001b[0mtest_data_subset\u001b[0m\u001b[0;34m,\u001b[0m \u001b[0mtitle\u001b[0m\u001b[0;34m=\u001b[0m\u001b[0;34m\"Noisy samples of the learned gestures\"\u001b[0m\u001b[0;34m)\u001b[0m\u001b[0;34m\u001b[0m\u001b[0m\n\u001b[1;32m     33\u001b[0m \u001b[0;34m\u001b[0m\u001b[0m\n\u001b[0;32m---> 34\u001b[0;31m \u001b[0mepl\u001b[0m\u001b[0;34m.\u001b[0m\u001b[0mfit\u001b[0m\u001b[0;34m(\u001b[0m\u001b[0mtrainingSet\u001b[0m\u001b[0;34m=\u001b[0m\u001b[0mtrain_data\u001b[0m\u001b[0;34m,\u001b[0m \u001b[0mtestingSet\u001b[0m\u001b[0;34m=\u001b[0m\u001b[0mtest_data\u001b[0m\u001b[0;34m)\u001b[0m\u001b[0;34m\u001b[0m\u001b[0m\n\u001b[0m\u001b[1;32m     35\u001b[0m \u001b[0;34m\u001b[0m\u001b[0m\n\u001b[1;32m     36\u001b[0m \u001b[0mepl\u001b[0m\u001b[0;34m.\u001b[0m\u001b[0mpredict\u001b[0m\u001b[0;34m(\u001b[0m\u001b[0;34m)\u001b[0m\u001b[0;34m\u001b[0m\u001b[0m\n",
      "\u001b[0;32m~/python3_venv/lib/python3.5/site-packages/nxsdk_modules/epl/src/multi_pattern_learning/epl_multi_pattern_learning.py\u001b[0m in \u001b[0;36mfit\u001b[0;34m(self, trainingSet, testingSet)\u001b[0m\n\u001b[1;32m    144\u001b[0m         \u001b[0mself\u001b[0m\u001b[0;34m.\u001b[0m\u001b[0mtrainingSet\u001b[0m \u001b[0;34m=\u001b[0m \u001b[0mtrainingSet\u001b[0m\u001b[0;34m\u001b[0m\u001b[0m\n\u001b[1;32m    145\u001b[0m         \u001b[0mself\u001b[0m\u001b[0;34m.\u001b[0m\u001b[0mtestingSet\u001b[0m \u001b[0;34m=\u001b[0m \u001b[0mtestingSet\u001b[0m\u001b[0;34m\u001b[0m\u001b[0m\n\u001b[0;32m--> 146\u001b[0;31m         \u001b[0mself\u001b[0m\u001b[0;34m.\u001b[0m\u001b[0mgatherDataForSNIPs\u001b[0m\u001b[0;34m(\u001b[0m\u001b[0mtrainingSet\u001b[0m\u001b[0;34m,\u001b[0m \u001b[0mtestingSet\u001b[0m\u001b[0;34m)\u001b[0m\u001b[0;34m\u001b[0m\u001b[0m\n\u001b[0m\u001b[1;32m    147\u001b[0m         self.addSNIPs(totalTrainSamples=self.numTrainSamples,\n\u001b[1;32m    148\u001b[0m                       \u001b[0mtotalTestSamples\u001b[0m\u001b[0;34m=\u001b[0m\u001b[0mself\u001b[0m\u001b[0;34m.\u001b[0m\u001b[0mnumTotalTestSamples\u001b[0m\u001b[0;34m,\u001b[0m\u001b[0;34m\u001b[0m\u001b[0m\n",
      "\u001b[0;32m~/python3_venv/lib/python3.5/site-packages/nxsdk_modules/epl/src/multi_pattern_learning/epl_snips_utils.py\u001b[0m in \u001b[0;36mgatherDataForSNIPs\u001b[0;34m(self, trainingSet, testingSet)\u001b[0m\n\u001b[1;32m    203\u001b[0m         \u001b[0mself\u001b[0m\u001b[0;34m.\u001b[0m\u001b[0mtrainData\u001b[0m \u001b[0;34m=\u001b[0m \u001b[0;34m[\u001b[0m\u001b[0;34m]\u001b[0m\u001b[0;34m\u001b[0m\u001b[0m\n\u001b[1;32m    204\u001b[0m         \u001b[0;32mfor\u001b[0m \u001b[0mtrainSample\u001b[0m \u001b[0;32min\u001b[0m \u001b[0mtrainingSet\u001b[0m\u001b[0;34m:\u001b[0m\u001b[0;34m\u001b[0m\u001b[0m\n\u001b[0;32m--> 205\u001b[0;31m             \u001b[0mself\u001b[0m\u001b[0;34m.\u001b[0m\u001b[0mtrainData\u001b[0m \u001b[0;34m+=\u001b[0m \u001b[0mself\u001b[0m\u001b[0;34m.\u001b[0m\u001b[0midxToBases\u001b[0m\u001b[0;34m(\u001b[0m\u001b[0mtrainSample\u001b[0m\u001b[0;34m)\u001b[0m\u001b[0;34m\u001b[0m\u001b[0m\n\u001b[0m\u001b[1;32m    206\u001b[0m         \u001b[0mself\u001b[0m\u001b[0;34m.\u001b[0m\u001b[0mtestData\u001b[0m \u001b[0;34m=\u001b[0m \u001b[0;34m[\u001b[0m\u001b[0;34m]\u001b[0m\u001b[0;34m\u001b[0m\u001b[0m\n\u001b[1;32m    207\u001b[0m         \u001b[0;32mfor\u001b[0m \u001b[0mtestSample\u001b[0m \u001b[0;32min\u001b[0m \u001b[0mtestingSet\u001b[0m\u001b[0;34m:\u001b[0m\u001b[0;34m\u001b[0m\u001b[0m\n",
      "\u001b[0;32m~/python3_venv/lib/python3.5/site-packages/nxsdk_modules/epl/src/multi_pattern_learning/epl_snips_utils.py\u001b[0m in \u001b[0;36midxToBases\u001b[0;34m(self, inputList)\u001b[0m\n\u001b[1;32m    167\u001b[0m     \u001b[0;32mdef\u001b[0m \u001b[0midxToBases\u001b[0m\u001b[0;34m(\u001b[0m\u001b[0mself\u001b[0m\u001b[0;34m,\u001b[0m \u001b[0minputList\u001b[0m\u001b[0;34m)\u001b[0m\u001b[0;34m:\u001b[0m\u001b[0;34m\u001b[0m\u001b[0m\n\u001b[1;32m    168\u001b[0m         \u001b[0;34m\"\"\" maps the input data/sensor reading to an MC-AD bias current\"\"\"\u001b[0m\u001b[0;34m\u001b[0m\u001b[0m\n\u001b[0;32m--> 169\u001b[0;31m         \u001b[0;32mreturn\u001b[0m \u001b[0;34m[\u001b[0m\u001b[0mself\u001b[0m\u001b[0;34m.\u001b[0m\u001b[0mstim2bias\u001b[0m\u001b[0;34m[\u001b[0m\u001b[0mi\u001b[0m\u001b[0;34m]\u001b[0m \u001b[0;32mfor\u001b[0m \u001b[0mi\u001b[0m \u001b[0;32min\u001b[0m \u001b[0minputList\u001b[0m\u001b[0;34m]\u001b[0m\u001b[0;34m\u001b[0m\u001b[0m\n\u001b[0m\u001b[1;32m    170\u001b[0m \u001b[0;34m\u001b[0m\u001b[0m\n\u001b[1;32m    171\u001b[0m     \u001b[0;32mdef\u001b[0m \u001b[0m_sendInputAxonMapData\u001b[0m\u001b[0;34m(\u001b[0m\u001b[0mself\u001b[0m\u001b[0;34m,\u001b[0m \u001b[0maxonMap\u001b[0m\u001b[0;34m)\u001b[0m\u001b[0;34m:\u001b[0m\u001b[0;34m\u001b[0m\u001b[0m\n",
      "\u001b[0;32m~/python3_venv/lib/python3.5/site-packages/nxsdk_modules/epl/src/multi_pattern_learning/epl_snips_utils.py\u001b[0m in \u001b[0;36m<listcomp>\u001b[0;34m(.0)\u001b[0m\n\u001b[1;32m    167\u001b[0m     \u001b[0;32mdef\u001b[0m \u001b[0midxToBases\u001b[0m\u001b[0;34m(\u001b[0m\u001b[0mself\u001b[0m\u001b[0;34m,\u001b[0m \u001b[0minputList\u001b[0m\u001b[0;34m)\u001b[0m\u001b[0;34m:\u001b[0m\u001b[0;34m\u001b[0m\u001b[0m\n\u001b[1;32m    168\u001b[0m         \u001b[0;34m\"\"\" maps the input data/sensor reading to an MC-AD bias current\"\"\"\u001b[0m\u001b[0;34m\u001b[0m\u001b[0m\n\u001b[0;32m--> 169\u001b[0;31m         \u001b[0;32mreturn\u001b[0m \u001b[0;34m[\u001b[0m\u001b[0mself\u001b[0m\u001b[0;34m.\u001b[0m\u001b[0mstim2bias\u001b[0m\u001b[0;34m[\u001b[0m\u001b[0mi\u001b[0m\u001b[0;34m]\u001b[0m \u001b[0;32mfor\u001b[0m \u001b[0mi\u001b[0m \u001b[0;32min\u001b[0m \u001b[0minputList\u001b[0m\u001b[0;34m]\u001b[0m\u001b[0;34m\u001b[0m\u001b[0m\n\u001b[0m\u001b[1;32m    170\u001b[0m \u001b[0;34m\u001b[0m\u001b[0m\n\u001b[1;32m    171\u001b[0m     \u001b[0;32mdef\u001b[0m \u001b[0m_sendInputAxonMapData\u001b[0m\u001b[0;34m(\u001b[0m\u001b[0mself\u001b[0m\u001b[0;34m,\u001b[0m \u001b[0maxonMap\u001b[0m\u001b[0;34m)\u001b[0m\u001b[0;34m:\u001b[0m\u001b[0;34m\u001b[0m\u001b[0m\n",
      "\u001b[0;31mIndexError\u001b[0m: list index out of range"
     ]
    }
   ],
   "source": [
    "\n",
    "# define the parameters\n",
    "eplParams = ParamemtersForEPL()\n",
    "eplParams.numPatterns = numPatterns\n",
    "# Image size is 10X10 and we are using only 1MC per column,\n",
    "eplParams.numColumns = 10\n",
    "eplParams.numMCsPerColumn = 10\n",
    "# Use 5 GCs per column per pattern, default is 5\n",
    "eplParams.numGCsPerPatternPerColumn = 5\n",
    "eplParams.connProbMCToGC = 0.2\n",
    "eplParams.numDelaysMCToGC = 2\n",
    "eplParams.useRandomSeed = True\n",
    "eplParams.randomGenSeed = 100\n",
    "eplParams.numGammaCyclesTrain = 45\n",
    "# create the network\n",
    "epl = EPLMultiPatternLearning(eplParams=eplParams)\n",
    "\n",
    "# generate 5 noisy test samples for each pattern\n",
    "numTestSamples = 5\n",
    "occlusionPercent = 0.2 # randomly perturb only 20% of the image pixels\n",
    "test_data = epl.generateTestingData(trainingData=train_data,\n",
    "                                occlusionPercent=occlusionPercent,\n",
    "                                numTestSamples=numTestSamples)\n",
    "\n",
    "#visualize the test data by displaying the 3rd test sample for each pattern\n",
    "test_data_subset = []\n",
    "sampleIdx=3\n",
    "for patternIdx in range(numPatterns):\n",
    "    idx = patternIdx * numTestSamples + sampleIdx\n",
    "    test_data_subset.append(test_data[idx])\n",
    "\n",
    "#plot the 3rd test sample for each pattern\n",
    "plot_images(gestures, test_data_subset, title=\"Noisy samples of the learned gestures\")\n",
    "\n",
    "epl.fit(trainingSet=train_data, testingSet=test_data)\n",
    "\n",
    "epl.predict()\n",
    "\n",
    "epl.evaluate(similarityThreshold=0.85)\n",
    "\n",
    "epl.showRasterPlot(patternIdx=0, sampleIdx=3)\n",
    "\n",
    "#Change the number of dendrites between MC->GC connections\n",
    "eplParams.numDelaysMCToGC = 3 # was 2 before\n",
    "\n",
    "#create a new network and redo the above process\n",
    "epl = EPLMultiPatternLearning(eplParams=eplParams)\n",
    "\n",
    "# This dumps a lot of output\n",
    "epl.fit(trainingSet=train_data, testingSet=test_data)\n",
    "epl.predict()\n",
    "\n",
    "# Accuracy improves to 97% instead of 83% from before\n",
    "epl.evaluate(similarityThreshold=0.85)"
   ]
  },
  {
   "cell_type": "code",
   "execution_count": null,
   "metadata": {},
   "outputs": [],
   "source": []
  }
 ],
 "metadata": {
  "kernelspec": {
   "display_name": "Python 3",
   "language": "python",
   "name": "python3"
  },
  "language_info": {
   "codemirror_mode": {
    "name": "ipython",
    "version": 3
   },
   "file_extension": ".py",
   "mimetype": "text/x-python",
   "name": "python",
   "nbconvert_exporter": "python",
   "pygments_lexer": "ipython3",
   "version": "3.5.2"
  }
 },
 "nbformat": 4,
 "nbformat_minor": 4
}
